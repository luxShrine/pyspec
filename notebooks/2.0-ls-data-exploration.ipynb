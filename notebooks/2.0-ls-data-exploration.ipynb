{
 "cells": [
  {
   "cell_type": "code",
   "execution_count": null,
   "id": "0835cb24-186f-4820-b776-4641f96134b7",
   "metadata": {},
   "outputs": [],
   "source": [
    "text_path = DATA_DIR / \"raw\" / \"s80-64p.txt\"\n",
    "with text_path.open(\"r\") as f:\n",
    "    wl = np.fromstring(next(line for line in f if line.strip()), sep=\"\\t\")\n",
    "    rows = [np.fromstring(r_line, sep=\"\\t\") for r_line in f if r_line.strip()]\n",
    "xy_and_spectra = np.vstack(rows)\n",
    "xy_and_spectra[:, 2:].shape"
   ]
  }
 ],
 "metadata": {
  "kernelspec": {
   "display_name": "Python 3 (ipykernel)",
   "language": "python",
   "name": "python3"
  },
  "language_info": {
   "codemirror_mode": {
    "name": "ipython",
    "version": 3
   },
   "file_extension": ".py",
   "mimetype": "text/x-python",
   "name": "python",
   "nbconvert_exporter": "python",
   "pygments_lexer": "ipython3",
   "version": "3.13.6"
  }
 },
 "nbformat": 4,
 "nbformat_minor": 5
}
